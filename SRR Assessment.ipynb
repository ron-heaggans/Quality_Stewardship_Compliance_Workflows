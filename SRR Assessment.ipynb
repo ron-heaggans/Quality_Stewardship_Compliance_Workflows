{
 "cells": [
  {
   "cell_type": "markdown",
   "id": "b71c6115",
   "metadata": {},
   "source": [
    "# SRR Assessment\n",
    "\n",
    "### General Information Questions\n",
    "\n",
    "|Question|Type of Question|Associated Crop(s)|Requirement Type|Possible Answers|Visible?|Contengent on another Question|Instructional Message requirements|Instructional Message|\n",
    "|--------|----------------|------------------|----------------|----------------|--------|----------------------------------------------|----------------------------------|---------------------|\n",
    "|SRR Name|Person or Group|All|Required to Save as Draft|Select name from Bayer Org|Always|No|None|N/A|\n",
    "|SRR Site|Single line of text|All|Required to Submit|Free Text|Always|No|None|N/A|\n",
    "|SRR Type|Choice|All|Required to Submit|Bayer Internal SRR; External SRR|Always|No|None|N/A|\t\n",
    "|Alternate Contact #1|Person or Group|All|Required to Submit|Select name from Bayer Org|Always|No|None|N/A|\n",
    "|Alternate Contact #2|Person or Group|All|Required to Submit|Select name from Bayer Org|Always|No|None|N/A|\n"
   ]
  },
  {
   "cell_type": "markdown",
   "id": "45359578",
   "metadata": {},
   "source": [
    "### SRR Assessment Questions\n",
    "\n",
    "|Question|Type of Question|Associated Crop(s)|Requirement Type|Possible Answers|Visible?|Contengent on another Question|Instructional Message requirements|Instructional Message|\n",
    "|--------|----------------|------------------|----------------|----------------|--------|----------------------------------------------|----------------------------------|---------------------|\n",
    "|When was the last YEAR the SRR received a field inspection audit? (Enter response as YYYY; enter \"0000\" if new or never audited)|Single line of text|All|Required to Submit|Free Text YYYY|Always|No|None|N/A|\n",
    "|Were any major non-conformances noted during the SRR's last Field Inspection Audit?|Choice|All|Required to Submit|Yes;No|If \"When was the last YEAR the SRR received a field inspection audit?\" <> 0000|If \"When was the last YEAR the SRR received a field inspection audit?\" <> 0000|None|N/A|\n",
    "|Indicate the SRR's years of experience as an SRR.|Number|All|Required to Submit|Number (0 decimal places)|Always|No|None|N/A|\n",
    "|What types of trials will manage?|Multi-Select Choice|All|Required to Submit|10 Acre, Regulated, Stewarded|Always|No|None|N/A|\n",
    "|How many acres of this year's plantings will the SRR manage?|Number|All|Required to Submit|Number (2 decimal places)|Always|No|None|N/A|\n",
    "|How many fields/trial areas of this year's plantings will the SRR manage?|Number|All|Required to Submit|Number (0 decimal places)|Always|No|None|N/A|\n",
    "|Will the SRR mange any of last year's plantings under Volunteer Management (VM)?|Choice|All|Required to Submit|Yes;No|Always|No|None|N/A|\n",
    "|How many fields/trial areas of last year's plantings under Volunteer Management (VM) will the SRR manage?|Number|All|Required to Submit If \"Will the SRR mange any of last year's plantings under Volunteer Management (VM)?\" = \"Yes\"|Number (0 decimal places|If \"Will the SRR mange any of last year's plantings under Volunteer Management (VM)?\" = \"Yes\"|If \"Will the SRR mange any of last year's plantings under Volunteer Management (VM)?\" = \"Yes\"|None|N/A|\n",
    "|How many growers will the SRR manage?|Number|All|Required to Submit|Number (0 decimal places)|Always|No|None|N/A|\n",
    "|How many field/trial areas are more than a 3 hour drive from the SRR's home/office?|Number|All|Required to Submit|Number (0 decimal places|Always|No|None|N/A|\t\n",
    "|I agree that the total number of trial sites does not exceed my abilities to meet all functional and/or governmental requirements for management of confined field trials.|Choice|All|Required to Submit|Yes;No|Always|No|None|N/A|\n",
    "|I agree that the complexity of my trial load, including the number of unique trial replications, does not exceed my abilities to meet all functional and/or governmental requirements for management of confined field trials.|Choice|All|Required to Submit|Yes;No|Always|No|None|N/A|\n",
    "|I agree that the field/trial locations and distance from my location does not prevent me from meeting all functional and/or governmental requirements for management of confined field trials.|Choice|All|Required to Submit|Yes;No|Always|No|None|N/A|\n",
    "|I agree that my training/experience in managing confined field trials is adequate to support satisfaction of all functional and/or governmental requirements for management of confined field trials.|Choice|All|Required to Submit|Yes;No|Always|No|None|N/A|\n",
    "|I will immediately notify my direct supervisor and Functional Compliance Lead in the event that I am unable to meet all functional and/or governmental requirements for management of confined field trials.|Choice|All|Required to Submit|Yes;No|Always|No|None|N/A|\n",
    "|Status|Choice|All|None|Draft;Submitted|Always (view only)|No|None|N/A|"
   ]
  },
  {
   "cell_type": "code",
   "execution_count": null,
   "id": "5bb2a448",
   "metadata": {},
   "outputs": [],
   "source": []
  }
 ],
 "metadata": {
  "kernelspec": {
   "display_name": "Python 3 (ipykernel)",
   "language": "python",
   "name": "python3"
  },
  "language_info": {
   "codemirror_mode": {
    "name": "ipython",
    "version": 3
   },
   "file_extension": ".py",
   "mimetype": "text/x-python",
   "name": "python",
   "nbconvert_exporter": "python",
   "pygments_lexer": "ipython3",
   "version": "3.11.3"
  }
 },
 "nbformat": 4,
 "nbformat_minor": 5
}
